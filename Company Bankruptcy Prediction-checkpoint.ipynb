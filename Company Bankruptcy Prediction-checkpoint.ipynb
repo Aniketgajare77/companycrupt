{
 "cells": [
  {
   "cell_type": "markdown",
   "id": "94279a68",
   "metadata": {},
   "source": [
    "# Bankruptcy - EDA & Modelling\n",
    "Company Bankruptcy Prediction"
   ]
  },
  {
   "cell_type": "code",
   "execution_count": null,
   "id": "afb9f342",
   "metadata": {},
   "outputs": [],
   "source": []
  },
  {
   "cell_type": "markdown",
   "id": "90ec3f8a",
   "metadata": {},
   "source": [
    "#### I found the dataset of car details from Kaggle\n",
    "\n",
    "Link of the Dataset:https://www.kaggle.com/datasets/fedesoriano/company-bankruptcy-prediction"
   ]
  },
  {
   "cell_type": "markdown",
   "id": "bf85077c",
   "metadata": {},
   "source": [
    "# "
   ]
  },
  {
   "cell_type": "markdown",
   "id": "3ce8a73a",
   "metadata": {},
   "source": [
    "# Company Bankruptcy\n",
    "Company bankruptcy occurs when a company cannot pay its debts and obligations to creditors, resulting in the company's assets being liquidated to repay those debts.\n",
    "This can lead to the company ceasing operations and potentially going out of business."
   ]
  },
  {
   "cell_type": "markdown",
   "id": "f629cc85",
   "metadata": {},
   "source": [
    "#### Sources:\n",
    "The data were collected from the Taiwan Economic Journal for the years 1999 to 2009. Company bankruptcy was defined based on the business regulations of the Taiwan Stock Exchange."
   ]
  },
  {
   "cell_type": "code",
   "execution_count": 3,
   "id": "cb9950c8",
   "metadata": {},
   "outputs": [
    {
     "ename": "ModuleNotFoundError",
     "evalue": "No module named 'numpy'",
     "output_type": "error",
     "traceback": [
      "\u001b[1;31m---------------------------------------------------------------------------\u001b[0m",
      "\u001b[1;31mModuleNotFoundError\u001b[0m                       Traceback (most recent call last)",
      "Cell \u001b[1;32mIn[3], line 2\u001b[0m\n\u001b[0;32m      1\u001b[0m \u001b[39m#importing importance library\u001b[39;00m\n\u001b[1;32m----> 2\u001b[0m \u001b[39mimport\u001b[39;00m \u001b[39mnumpy\u001b[39;00m \u001b[39mas\u001b[39;00m \u001b[39mnp\u001b[39;00m\n\u001b[0;32m      3\u001b[0m \u001b[39mimport\u001b[39;00m \u001b[39mpandas\u001b[39;00m \u001b[39mas\u001b[39;00m \u001b[39mpd\u001b[39;00m\n\u001b[0;32m      4\u001b[0m \u001b[39mimport\u001b[39;00m \u001b[39mmatplotlib\u001b[39;00m\u001b[39m.\u001b[39;00m\u001b[39mpyplot\u001b[39;00m \u001b[39mas\u001b[39;00m \u001b[39mplt\u001b[39;00m\n",
      "\u001b[1;31mModuleNotFoundError\u001b[0m: No module named 'numpy'"
     ]
    }
   ],
   "source": [
    "#importing importance library\n",
    "import numpy as np\n",
    "import pandas as pd\n",
    "import matplotlib.pyplot as plt\n",
    "import seaborn as sns\n",
    "import warnings\n",
    "warnings.filterwarnings(\"ignore\")"
   ]
  },
  {
   "cell_type": "code",
   "execution_count": 4,
   "id": "001ffcc4",
   "metadata": {},
   "outputs": [
    {
     "ename": "NameError",
     "evalue": "name 'pd' is not defined",
     "output_type": "error",
     "traceback": [
      "\u001b[1;31m---------------------------------------------------------------------------\u001b[0m",
      "\u001b[1;31mNameError\u001b[0m                                 Traceback (most recent call last)",
      "Cell \u001b[1;32mIn[4], line 2\u001b[0m\n\u001b[0;32m      1\u001b[0m \u001b[39m#importing dataset\u001b[39;00m\n\u001b[1;32m----> 2\u001b[0m df\u001b[39m=\u001b[39mpd\u001b[39m.\u001b[39mread_csv(\u001b[39m'\u001b[39m\u001b[39mbankcrupt company.csv\u001b[39m\u001b[39m'\u001b[39m)\n\u001b[0;32m      3\u001b[0m df\n",
      "\u001b[1;31mNameError\u001b[0m: name 'pd' is not defined"
     ]
    }
   ],
   "source": [
    "#importing dataset\n",
    "df=pd.read_csv('bankcrupt company.csv')\n",
    "df"
   ]
  },
  {
   "cell_type": "code",
   "execution_count": null,
   "id": "ffb75b73",
   "metadata": {},
   "outputs": [
    {
     "ename": "",
     "evalue": "",
     "output_type": "error",
     "traceback": [
      "\u001b[1;31mRunning cells with 'c:\\end to end project\\companycrupt\\venv\\python.exe' requires the ipykernel package.\n",
      "\u001b[1;31mRun the following command to install 'ipykernel' into the Python environment. \n",
      "\u001b[1;31mCommand: 'conda install -p c:\\end to end project\\companycrupt\\venv ipykernel --update-deps --force-reinstall'"
     ]
    }
   ],
   "source": [
    "df.head()"
   ]
  },
  {
   "cell_type": "code",
   "execution_count": null,
   "id": "1db9cb5e",
   "metadata": {},
   "outputs": [
    {
     "ename": "",
     "evalue": "",
     "output_type": "error",
     "traceback": [
      "\u001b[1;31mRunning cells with 'c:\\end to end project\\companycrupt\\venv\\python.exe' requires the ipykernel package.\n",
      "\u001b[1;31mRun the following command to install 'ipykernel' into the Python environment. \n",
      "\u001b[1;31mCommand: 'conda install -p c:\\end to end project\\companycrupt\\venv ipykernel --update-deps --force-reinstall'"
     ]
    }
   ],
   "source": [
    "print('numbers of records:-',df.shape[0])\n",
    "print('numbers of columns:-',df.shape[1])"
   ]
  },
  {
   "cell_type": "code",
   "execution_count": null,
   "id": "3cdeab83",
   "metadata": {},
   "outputs": [
    {
     "ename": "",
     "evalue": "",
     "output_type": "error",
     "traceback": [
      "\u001b[1;31mRunning cells with 'c:\\end to end project\\companycrupt\\venv\\python.exe' requires the ipykernel package.\n",
      "\u001b[1;31mRun the following command to install 'ipykernel' into the Python environment. \n",
      "\u001b[1;31mCommand: 'conda install -p c:\\end to end project\\companycrupt\\venv ipykernel --update-deps --force-reinstall'"
     ]
    }
   ],
   "source": [
    "df.info()"
   ]
  },
  {
   "cell_type": "code",
   "execution_count": null,
   "id": "915f3109",
   "metadata": {},
   "outputs": [
    {
     "ename": "",
     "evalue": "",
     "output_type": "error",
     "traceback": [
      "\u001b[1;31mRunning cells with 'c:\\end to end project\\companycrupt\\venv\\python.exe' requires the ipykernel package.\n",
      "\u001b[1;31mRun the following command to install 'ipykernel' into the Python environment. \n",
      "\u001b[1;31mCommand: 'conda install -p c:\\end to end project\\companycrupt\\venv ipykernel --update-deps --force-reinstall'"
     ]
    }
   ],
   "source": [
    "df.describe()"
   ]
  },
  {
   "cell_type": "markdown",
   "id": "1259cda3",
   "metadata": {},
   "source": [
    "### checking null values"
   ]
  },
  {
   "cell_type": "code",
   "execution_count": null,
   "id": "c49cac02",
   "metadata": {},
   "outputs": [
    {
     "ename": "",
     "evalue": "",
     "output_type": "error",
     "traceback": [
      "\u001b[1;31mRunning cells with 'c:\\end to end project\\companycrupt\\venv\\python.exe' requires the ipykernel package.\n",
      "\u001b[1;31mRun the following command to install 'ipykernel' into the Python environment. \n",
      "\u001b[1;31mCommand: 'conda install -p c:\\end to end project\\companycrupt\\venv ipykernel --update-deps --force-reinstall'"
     ]
    }
   ],
   "source": [
    "df.isnull().sum().any()"
   ]
  },
  {
   "cell_type": "markdown",
   "id": "ef0597b0",
   "metadata": {},
   "source": [
    "There is no null values present in this dataset"
   ]
  },
  {
   "cell_type": "code",
   "execution_count": null,
   "id": "940535b9",
   "metadata": {},
   "outputs": [
    {
     "ename": "",
     "evalue": "",
     "output_type": "error",
     "traceback": [
      "\u001b[1;31mRunning cells with 'c:\\end to end project\\companycrupt\\venv\\python.exe' requires the ipykernel package.\n",
      "\u001b[1;31mRun the following command to install 'ipykernel' into the Python environment. \n",
      "\u001b[1;31mCommand: 'conda install -p c:\\end to end project\\companycrupt\\venv ipykernel --update-deps --force-reinstall'"
     ]
    }
   ],
   "source": [
    "for i in df:\n",
    "    print(i)\n",
    "    print(df[i].unique())"
   ]
  },
  {
   "cell_type": "code",
   "execution_count": null,
   "id": "1398e9c0",
   "metadata": {},
   "outputs": [
    {
     "ename": "",
     "evalue": "",
     "output_type": "error",
     "traceback": [
      "\u001b[1;31mRunning cells with 'c:\\end to end project\\companycrupt\\venv\\python.exe' requires the ipykernel package.\n",
      "\u001b[1;31mRun the following command to install 'ipykernel' into the Python environment. \n",
      "\u001b[1;31mCommand: 'conda install -p c:\\end to end project\\companycrupt\\venv ipykernel --update-deps --force-reinstall'"
     ]
    }
   ],
   "source": [
    "df.nunique()"
   ]
  },
  {
   "cell_type": "markdown",
   "id": "dacaf9a1",
   "metadata": {},
   "source": [
    "#### There are 96 columns in this dataset so to perform on all 96 columns it's time consuming resource consume process"
   ]
  },
  {
   "cell_type": "markdown",
   "id": "42ddd41a",
   "metadata": {},
   "source": [
    "so we select some columns using feature selection "
   ]
  },
  {
   "cell_type": "markdown",
   "id": "65a243b6",
   "metadata": {},
   "source": [
    "#### selection features using corelation method"
   ]
  },
  {
   "cell_type": "code",
   "execution_count": null,
   "id": "241d6838",
   "metadata": {},
   "outputs": [
    {
     "ename": "",
     "evalue": "",
     "output_type": "error",
     "traceback": [
      "\u001b[1;31mRunning cells with 'c:\\end to end project\\companycrupt\\venv\\python.exe' requires the ipykernel package.\n",
      "\u001b[1;31mRun the following command to install 'ipykernel' into the Python environment. \n",
      "\u001b[1;31mCommand: 'conda install -p c:\\end to end project\\companycrupt\\venv ipykernel --update-deps --force-reinstall'"
     ]
    }
   ],
   "source": [
    "correlation_matrix = df.corr()"
   ]
  },
  {
   "cell_type": "code",
   "execution_count": null,
   "id": "9524eb13",
   "metadata": {},
   "outputs": [
    {
     "ename": "",
     "evalue": "",
     "output_type": "error",
     "traceback": [
      "\u001b[1;31mRunning cells with 'c:\\end to end project\\companycrupt\\venv\\python.exe' requires the ipykernel package.\n",
      "\u001b[1;31mRun the following command to install 'ipykernel' into the Python environment. \n",
      "\u001b[1;31mCommand: 'conda install -p c:\\end to end project\\companycrupt\\venv ipykernel --update-deps --force-reinstall'"
     ]
    }
   ],
   "source": [
    "correlated_columns = correlation_matrix[\n",
    "    (correlation_matrix['Bankrupt?'] > 0.10) | (correlation_matrix['Bankrupt?'] < -0.10)\n",
    "].index.tolist()\n"
   ]
  },
  {
   "cell_type": "code",
   "execution_count": null,
   "id": "e28982d4",
   "metadata": {},
   "outputs": [
    {
     "ename": "",
     "evalue": "",
     "output_type": "error",
     "traceback": [
      "\u001b[1;31mRunning cells with 'c:\\end to end project\\companycrupt\\venv\\python.exe' requires the ipykernel package.\n",
      "\u001b[1;31mRun the following command to install 'ipykernel' into the Python environment. \n",
      "\u001b[1;31mCommand: 'conda install -p c:\\end to end project\\companycrupt\\venv ipykernel --update-deps --force-reinstall'"
     ]
    }
   ],
   "source": [
    "correlated_columns"
   ]
  },
  {
   "cell_type": "markdown",
   "id": "a72773c9",
   "metadata": {},
   "source": [
    "# now using mutual info classification feature selection"
   ]
  },
  {
   "cell_type": "code",
   "execution_count": null,
   "id": "fb1decb3",
   "metadata": {},
   "outputs": [
    {
     "ename": "",
     "evalue": "",
     "output_type": "error",
     "traceback": [
      "\u001b[1;31mRunning cells with 'c:\\end to end project\\companycrupt\\venv\\python.exe' requires the ipykernel package.\n",
      "\u001b[1;31mRun the following command to install 'ipykernel' into the Python environment. \n",
      "\u001b[1;31mCommand: 'conda install -p c:\\end to end project\\companycrupt\\venv ipykernel --update-deps --force-reinstall'"
     ]
    }
   ],
   "source": [
    "from sklearn.feature_selection import SelectKBest,mutual_info_classif"
   ]
  },
  {
   "cell_type": "code",
   "execution_count": null,
   "id": "d7becddd",
   "metadata": {},
   "outputs": [
    {
     "ename": "",
     "evalue": "",
     "output_type": "error",
     "traceback": [
      "\u001b[1;31mRunning cells with 'c:\\end to end project\\companycrupt\\venv\\python.exe' requires the ipykernel package.\n",
      "\u001b[1;31mRun the following command to install 'ipykernel' into the Python environment. \n",
      "\u001b[1;31mCommand: 'conda install -p c:\\end to end project\\companycrupt\\venv ipykernel --update-deps --force-reinstall'"
     ]
    }
   ],
   "source": [
    "X=df.drop(['Bankrupt?'],axis=1)"
   ]
  },
  {
   "cell_type": "code",
   "execution_count": null,
   "id": "eb60595c",
   "metadata": {},
   "outputs": [
    {
     "ename": "",
     "evalue": "",
     "output_type": "error",
     "traceback": [
      "\u001b[1;31mRunning cells with 'c:\\end to end project\\companycrupt\\venv\\python.exe' requires the ipykernel package.\n",
      "\u001b[1;31mRun the following command to install 'ipykernel' into the Python environment. \n",
      "\u001b[1;31mCommand: 'conda install -p c:\\end to end project\\companycrupt\\venv ipykernel --update-deps --force-reinstall'"
     ]
    }
   ],
   "source": [
    "y=df['Bankrupt?']"
   ]
  },
  {
   "cell_type": "code",
   "execution_count": null,
   "id": "992b2607",
   "metadata": {},
   "outputs": [
    {
     "ename": "",
     "evalue": "",
     "output_type": "error",
     "traceback": [
      "\u001b[1;31mRunning cells with 'c:\\end to end project\\companycrupt\\venv\\python.exe' requires the ipykernel package.\n",
      "\u001b[1;31mRun the following command to install 'ipykernel' into the Python environment. \n",
      "\u001b[1;31mCommand: 'conda install -p c:\\end to end project\\companycrupt\\venv ipykernel --update-deps --force-reinstall'"
     ]
    }
   ],
   "source": [
    "selector = SelectKBest(score_func=mutual_info_classif, k='all')"
   ]
  },
  {
   "cell_type": "code",
   "execution_count": null,
   "id": "e3eb91ec",
   "metadata": {},
   "outputs": [
    {
     "ename": "",
     "evalue": "",
     "output_type": "error",
     "traceback": [
      "\u001b[1;31mRunning cells with 'c:\\end to end project\\companycrupt\\venv\\python.exe' requires the ipykernel package.\n",
      "\u001b[1;31mRun the following command to install 'ipykernel' into the Python environment. \n",
      "\u001b[1;31mCommand: 'conda install -p c:\\end to end project\\companycrupt\\venv ipykernel --update-deps --force-reinstall'"
     ]
    }
   ],
   "source": [
    "selector.fit(X, y)"
   ]
  },
  {
   "cell_type": "code",
   "execution_count": null,
   "id": "fcad6187",
   "metadata": {},
   "outputs": [
    {
     "ename": "",
     "evalue": "",
     "output_type": "error",
     "traceback": [
      "\u001b[1;31mRunning cells with 'c:\\end to end project\\companycrupt\\venv\\python.exe' requires the ipykernel package.\n",
      "\u001b[1;31mRun the following command to install 'ipykernel' into the Python environment. \n",
      "\u001b[1;31mCommand: 'conda install -p c:\\end to end project\\companycrupt\\venv ipykernel --update-deps --force-reinstall'"
     ]
    }
   ],
   "source": [
    "mi_scores = pd.DataFrame({'Feature': X.columns, 'MI Score': selector.scores_})"
   ]
  },
  {
   "cell_type": "code",
   "execution_count": null,
   "id": "f9397f14",
   "metadata": {},
   "outputs": [
    {
     "ename": "",
     "evalue": "",
     "output_type": "error",
     "traceback": [
      "\u001b[1;31mRunning cells with 'c:\\end to end project\\companycrupt\\venv\\python.exe' requires the ipykernel package.\n",
      "\u001b[1;31mRun the following command to install 'ipykernel' into the Python environment. \n",
      "\u001b[1;31mCommand: 'conda install -p c:\\end to end project\\companycrupt\\venv ipykernel --update-deps --force-reinstall'"
     ]
    }
   ],
   "source": [
    "mi_scores = mi_scores.sort_values(by='MI Score', ascending=False)"
   ]
  },
  {
   "cell_type": "code",
   "execution_count": null,
   "id": "30f4c7eb",
   "metadata": {},
   "outputs": [
    {
     "ename": "",
     "evalue": "",
     "output_type": "error",
     "traceback": [
      "\u001b[1;31mRunning cells with 'c:\\end to end project\\companycrupt\\venv\\python.exe' requires the ipykernel package.\n",
      "\u001b[1;31mRun the following command to install 'ipykernel' into the Python environment. \n",
      "\u001b[1;31mCommand: 'conda install -p c:\\end to end project\\companycrupt\\venv ipykernel --update-deps --force-reinstall'"
     ]
    }
   ],
   "source": [
    "top_60_columns = mi_scores.head(60)['Feature'].tolist()\n"
   ]
  },
  {
   "cell_type": "code",
   "execution_count": null,
   "id": "8d2f6bb9",
   "metadata": {},
   "outputs": [
    {
     "ename": "",
     "evalue": "",
     "output_type": "error",
     "traceback": [
      "\u001b[1;31mRunning cells with 'c:\\end to end project\\companycrupt\\venv\\python.exe' requires the ipykernel package.\n",
      "\u001b[1;31mRun the following command to install 'ipykernel' into the Python environment. \n",
      "\u001b[1;31mCommand: 'conda install -p c:\\end to end project\\companycrupt\\venv ipykernel --update-deps --force-reinstall'"
     ]
    }
   ],
   "source": [
    "mi_scores.head(20).plot(kind='bar')"
   ]
  },
  {
   "cell_type": "code",
   "execution_count": null,
   "id": "879cf90c",
   "metadata": {},
   "outputs": [
    {
     "ename": "",
     "evalue": "",
     "output_type": "error",
     "traceback": [
      "\u001b[1;31mRunning cells with 'c:\\end to end project\\companycrupt\\venv\\python.exe' requires the ipykernel package.\n",
      "\u001b[1;31mRun the following command to install 'ipykernel' into the Python environment. \n",
      "\u001b[1;31mCommand: 'conda install -p c:\\end to end project\\companycrupt\\venv ipykernel --update-deps --force-reinstall'"
     ]
    }
   ],
   "source": [
    "selected_features = set(correlated_columns).intersection(top_60_columns)\n"
   ]
  },
  {
   "cell_type": "code",
   "execution_count": null,
   "id": "14f295c8",
   "metadata": {},
   "outputs": [
    {
     "ename": "",
     "evalue": "",
     "output_type": "error",
     "traceback": [
      "\u001b[1;31mRunning cells with 'c:\\end to end project\\companycrupt\\venv\\python.exe' requires the ipykernel package.\n",
      "\u001b[1;31mRun the following command to install 'ipykernel' into the Python environment. \n",
      "\u001b[1;31mCommand: 'conda install -p c:\\end to end project\\companycrupt\\venv ipykernel --update-deps --force-reinstall'"
     ]
    }
   ],
   "source": [
    "selected_features = list(selected_features)"
   ]
  },
  {
   "cell_type": "code",
   "execution_count": null,
   "id": "fd3fb695",
   "metadata": {},
   "outputs": [
    {
     "ename": "",
     "evalue": "",
     "output_type": "error",
     "traceback": [
      "\u001b[1;31mRunning cells with 'c:\\end to end project\\companycrupt\\venv\\python.exe' requires the ipykernel package.\n",
      "\u001b[1;31mRun the following command to install 'ipykernel' into the Python environment. \n",
      "\u001b[1;31mCommand: 'conda install -p c:\\end to end project\\companycrupt\\venv ipykernel --update-deps --force-reinstall'"
     ]
    }
   ],
   "source": [
    "selected_features"
   ]
  },
  {
   "cell_type": "code",
   "execution_count": null,
   "id": "4ed901ba",
   "metadata": {},
   "outputs": [
    {
     "ename": "",
     "evalue": "",
     "output_type": "error",
     "traceback": [
      "\u001b[1;31mRunning cells with 'c:\\end to end project\\companycrupt\\venv\\python.exe' requires the ipykernel package.\n",
      "\u001b[1;31mRun the following command to install 'ipykernel' into the Python environment. \n",
      "\u001b[1;31mCommand: 'conda install -p c:\\end to end project\\companycrupt\\venv ipykernel --update-deps --force-reinstall'"
     ]
    }
   ],
   "source": [
    "final_columns=[' ROA(B) before interest and depreciation after tax',\n",
    " ' Current Liability to Current Assets',\n",
    " ' Working Capital to Total Assets',\n",
    " ' Current Liabilities/Equity',\n",
    " ' Debt ratio %',\n",
    " ' Working Capital/Equity',\n",
    " ' Tax rate (A)',\n",
    " ' Per Share Net profit before tax (Yuan ¥)',\n",
    " ' ROA(A) before interest and % after tax',\n",
    " ' Net Value Per Share (A)',\n",
    " ' Operating Gross Margin',\n",
    " ' Operating Profit Per Share (Yuan ¥)',\n",
    " ' Net Value Per Share (C)',\n",
    " ' Retained Earnings to Total Assets',\n",
    " ' Borrowing dependency',\n",
    " ' Net Value Per Share (B)',\n",
    " ' Current Liability to Assets',\n",
    " \" Net Income to Stockholder's Equity\",\n",
    " ' Net Income to Total Assets',\n",
    " ' Liability to Equity',\n",
    " ' Net worth/Assets',\n",
    " ' Net profit before tax/Paid-in capital',\n",
    " ' Gross Profit to Sales',\n",
    " ' Current Liability to Equity',\n",
    " ' Equity to Long-term Liability',\n",
    " ' Cash/Total Assets',\n",
    " ' Total expense/Assets',\n",
    " ' Operating profit/Paid-in capital',\n",
    " ' Persistent EPS in the Last Four Seasons',\n",
    " ' ROA(C) before interest and depreciation before interest','Bankrupt?']"
   ]
  },
  {
   "cell_type": "code",
   "execution_count": null,
   "id": "96a07bd3",
   "metadata": {
    "scrolled": true
   },
   "outputs": [
    {
     "ename": "",
     "evalue": "",
     "output_type": "error",
     "traceback": [
      "\u001b[1;31mRunning cells with 'c:\\end to end project\\companycrupt\\venv\\python.exe' requires the ipykernel package.\n",
      "\u001b[1;31mRun the following command to install 'ipykernel' into the Python environment. \n",
      "\u001b[1;31mCommand: 'conda install -p c:\\end to end project\\companycrupt\\venv ipykernel --update-deps --force-reinstall'"
     ]
    }
   ],
   "source": []
  },
  {
   "cell_type": "code",
   "execution_count": null,
   "id": "a5a177f8",
   "metadata": {},
   "outputs": [
    {
     "ename": "",
     "evalue": "",
     "output_type": "error",
     "traceback": [
      "\u001b[1;31mRunning cells with 'c:\\end to end project\\companycrupt\\venv\\python.exe' requires the ipykernel package.\n",
      "\u001b[1;31mRun the following command to install 'ipykernel' into the Python environment. \n",
      "\u001b[1;31mCommand: 'conda install -p c:\\end to end project\\companycrupt\\venv ipykernel --update-deps --force-reinstall'"
     ]
    }
   ],
   "source": [
    "new_df=df[final_columns]"
   ]
  },
  {
   "cell_type": "code",
   "execution_count": null,
   "id": "80b0c50d",
   "metadata": {},
   "outputs": [
    {
     "ename": "",
     "evalue": "",
     "output_type": "error",
     "traceback": [
      "\u001b[1;31mRunning cells with 'c:\\end to end project\\companycrupt\\venv\\python.exe' requires the ipykernel package.\n",
      "\u001b[1;31mRun the following command to install 'ipykernel' into the Python environment. \n",
      "\u001b[1;31mCommand: 'conda install -p c:\\end to end project\\companycrupt\\venv ipykernel --update-deps --force-reinstall'"
     ]
    }
   ],
   "source": [
    "new_df.columns"
   ]
  },
  {
   "cell_type": "code",
   "execution_count": null,
   "id": "d7202908",
   "metadata": {},
   "outputs": [
    {
     "ename": "",
     "evalue": "",
     "output_type": "error",
     "traceback": [
      "\u001b[1;31mRunning cells with 'c:\\end to end project\\companycrupt\\venv\\python.exe' requires the ipykernel package.\n",
      "\u001b[1;31mRun the following command to install 'ipykernel' into the Python environment. \n",
      "\u001b[1;31mCommand: 'conda install -p c:\\end to end project\\companycrupt\\venv ipykernel --update-deps --force-reinstall'"
     ]
    }
   ],
   "source": [
    "correlation_matrix = new_df.corr()\n",
    "plt.figure(figsize=(25,25))\n",
    "sns.heatmap(new_df.corr(),annot=True,fmt='.2f')"
   ]
  },
  {
   "cell_type": "markdown",
   "id": "d06b523c",
   "metadata": {},
   "source": [
    "#### we have mulitcolinearity in new dataset \n",
    "so we have remove columns with corelation with other columns=>0.8"
   ]
  },
  {
   "cell_type": "code",
   "execution_count": null,
   "id": "075515b0",
   "metadata": {},
   "outputs": [
    {
     "ename": "",
     "evalue": "",
     "output_type": "error",
     "traceback": [
      "\u001b[1;31mRunning cells with 'c:\\end to end project\\companycrupt\\venv\\python.exe' requires the ipykernel package.\n",
      "\u001b[1;31mRun the following command to install 'ipykernel' into the Python environment. \n",
      "\u001b[1;31mCommand: 'conda install -p c:\\end to end project\\companycrupt\\venv ipykernel --update-deps --force-reinstall'"
     ]
    }
   ],
   "source": [
    "correlation_matrix = new_df.corr()"
   ]
  },
  {
   "cell_type": "code",
   "execution_count": null,
   "id": "74cc36bb",
   "metadata": {},
   "outputs": [
    {
     "ename": "",
     "evalue": "",
     "output_type": "error",
     "traceback": [
      "\u001b[1;31mRunning cells with 'c:\\end to end project\\companycrupt\\venv\\python.exe' requires the ipykernel package.\n",
      "\u001b[1;31mRun the following command to install 'ipykernel' into the Python environment. \n",
      "\u001b[1;31mCommand: 'conda install -p c:\\end to end project\\companycrupt\\venv ipykernel --update-deps --force-reinstall'"
     ]
    }
   ],
   "source": [
    "columns_to_drop = []\n",
    "for column in correlation_matrix.columns:\n",
    "    correlated_columns = correlation_matrix[correlation_matrix[column] > 0.8].index.tolist()\n",
    "    for correlated_column in correlated_columns:\n",
    "        if column != correlated_column and column not in columns_to_drop:\n",
    "            columns_to_drop.append(column)"
   ]
  },
  {
   "cell_type": "code",
   "execution_count": null,
   "id": "16a9a443",
   "metadata": {},
   "outputs": [
    {
     "ename": "",
     "evalue": "",
     "output_type": "error",
     "traceback": [
      "\u001b[1;31mRunning cells with 'c:\\end to end project\\companycrupt\\venv\\python.exe' requires the ipykernel package.\n",
      "\u001b[1;31mRun the following command to install 'ipykernel' into the Python environment. \n",
      "\u001b[1;31mCommand: 'conda install -p c:\\end to end project\\companycrupt\\venv ipykernel --update-deps --force-reinstall'"
     ]
    }
   ],
   "source": [
    "new_df = new_df.drop(columns=columns_to_drop)"
   ]
  },
  {
   "cell_type": "code",
   "execution_count": null,
   "id": "cbb8e1cb",
   "metadata": {},
   "outputs": [
    {
     "ename": "",
     "evalue": "",
     "output_type": "error",
     "traceback": [
      "\u001b[1;31mRunning cells with 'c:\\end to end project\\companycrupt\\venv\\python.exe' requires the ipykernel package.\n",
      "\u001b[1;31mRun the following command to install 'ipykernel' into the Python environment. \n",
      "\u001b[1;31mCommand: 'conda install -p c:\\end to end project\\companycrupt\\venv ipykernel --update-deps --force-reinstall'"
     ]
    }
   ],
   "source": [
    "new_df"
   ]
  },
  {
   "cell_type": "code",
   "execution_count": null,
   "id": "dedf8675",
   "metadata": {},
   "outputs": [
    {
     "ename": "",
     "evalue": "",
     "output_type": "error",
     "traceback": [
      "\u001b[1;31mRunning cells with 'c:\\end to end project\\companycrupt\\venv\\python.exe' requires the ipykernel package.\n",
      "\u001b[1;31mRun the following command to install 'ipykernel' into the Python environment. \n",
      "\u001b[1;31mCommand: 'conda install -p c:\\end to end project\\companycrupt\\venv ipykernel --update-deps --force-reinstall'"
     ]
    }
   ],
   "source": [
    "sns.heatmap(new_df.corr(),annot=True,fmt='.2f')"
   ]
  },
  {
   "cell_type": "markdown",
   "id": "af2c735c",
   "metadata": {},
   "source": [
    "# Now lets understand our new dataset"
   ]
  },
  {
   "cell_type": "markdown",
   "id": "52abc50d",
   "metadata": {},
   "source": [
    " **Current Liability to Current Assets:**\n",
    "It represents the ratio of current liabilities to current assets, indicating the short-term obligations in relation to the available short-term resources.\n",
    "\n",
    "**Working Capital to Total Assets:** It measures the proportion of working capital (current assets minus current liabilities) in relation to total assets. It indicates the extent to which working capital is utilized in the company's overall asset base.\n",
    "\n",
    "**Working Capital/Equity:** It represents the ratio of working capital to shareholders' equity, indicating the utilization of working capital relative to the shareholders' investment.\n",
    "\n",
    "**Tax rate (A):** It denotes the tax rate applied to the company's income or profits.\n",
    "\n",
    "**Retained Earnings to Total Assets:** It represents the proportion of retained earnings (cumulative profits not distributed to shareholders) in relation to total assets. It reflects the retained earnings' contribution to the company's overall asset base.\n",
    "\n",
    "**Net Income to Stockholder's Equity:** It measures the profitability of the company by expressing net income (profits after taxes and other deductions) in relation to shareholders' equity.\n",
    "\n",
    "**Net worth/Assets:** It represents the ratio of net worth (the difference between total assets and total liabilities) to total assets, indicating the proportion of the company's assets that are financed by shareholders' equity.\n",
    "\n",
    "**Cash/Total Assets:** It represents the ratio of cash and cash equivalents to total assets, indicating the proportion of assets held in the form of cash.\n",
    "\n",
    "**Total expense/Assets:** It represents the ratio of total expenses to total assets, indicating the efficiency of asset utilization in generating revenue.\n",
    "\n",
    "**Bankrupt?:** It is a binary variable indicating whether the company has gone bankrupt or not. It serves as the target variable in some predictive modeling or classification tasks."
   ]
  },
  {
   "cell_type": "code",
   "execution_count": null,
   "id": "f57a7219",
   "metadata": {},
   "outputs": [
    {
     "ename": "",
     "evalue": "",
     "output_type": "error",
     "traceback": [
      "\u001b[1;31mRunning cells with 'c:\\end to end project\\companycrupt\\venv\\python.exe' requires the ipykernel package.\n",
      "\u001b[1;31mRun the following command to install 'ipykernel' into the Python environment. \n",
      "\u001b[1;31mCommand: 'conda install -p c:\\end to end project\\companycrupt\\venv ipykernel --update-deps --force-reinstall'"
     ]
    }
   ],
   "source": [
    "new_df.info()"
   ]
  },
  {
   "cell_type": "markdown",
   "id": "4ed8a3ee",
   "metadata": {},
   "source": [
    "The DataFrame contains 6819 entries (rows).\n",
    "\n",
    "There are 10 columns in the DataFrame.\n",
    "\n",
    "The columns are as follows:\n",
    "\n",
    "'Current Liability to Current Assets' (float64)\n",
    "'Working Capital to Total Assets' (float64)\n",
    "'Working Capital/Equity' (float64)\n",
    "'Tax rate (A)' (float64)\n",
    "'Retained Earnings to Total Assets' (float64)\n",
    "'Net Income to Stockholder's Equity' (float64)\n",
    "'Net worth/Assets' (float64)\n",
    "'Cash/Total Assets' (float64)\n",
    "'Total expense/Assets' (float64)\n",
    "'Bankrupt?' (int64)\n",
    "All columns have non-null values, indicating that there are no missing values in the DataFrame.\n",
    "\n",
    "The memory usage of the DataFrame is approximately 532.9 KB."
   ]
  },
  {
   "cell_type": "code",
   "execution_count": null,
   "id": "2e4caa42",
   "metadata": {},
   "outputs": [
    {
     "ename": "",
     "evalue": "",
     "output_type": "error",
     "traceback": [
      "\u001b[1;31mRunning cells with 'c:\\end to end project\\companycrupt\\venv\\python.exe' requires the ipykernel package.\n",
      "\u001b[1;31mRun the following command to install 'ipykernel' into the Python environment. \n",
      "\u001b[1;31mCommand: 'conda install -p c:\\end to end project\\companycrupt\\venv ipykernel --update-deps --force-reinstall'"
     ]
    }
   ],
   "source": [
    "new_df.describe()"
   ]
  },
  {
   "cell_type": "markdown",
   "id": "4b27f77a",
   "metadata": {},
   "source": [
    "The dataset contains 6819 entries (rows) and 10 columns.\n",
    "The columns represent various financial ratios and indicators.\n",
    "The dataset has no missing values (non-null count is the same as the count for each column).\n",
    "The mean values of the columns range from approximately 0.03 to 0.89.\n",
    "The standard deviation (std) values of the columns range from approximately 0.01 to 0.14.\n",
    "The minimum (min) values of the columns range from 0 to 1.\n",
    "The maximum (max) values of the columns range from 0 to 1."
   ]
  },
  {
   "cell_type": "code",
   "execution_count": null,
   "id": "5796b1dd",
   "metadata": {},
   "outputs": [
    {
     "ename": "",
     "evalue": "",
     "output_type": "error",
     "traceback": [
      "\u001b[1;31mRunning cells with 'c:\\end to end project\\companycrupt\\venv\\python.exe' requires the ipykernel package.\n",
      "\u001b[1;31mRun the following command to install 'ipykernel' into the Python environment. \n",
      "\u001b[1;31mCommand: 'conda install -p c:\\end to end project\\companycrupt\\venv ipykernel --update-deps --force-reinstall'"
     ]
    }
   ],
   "source": [
    "for i in new_df:\n",
    "    print(i)\n",
    "    print(new_df[i].unique())"
   ]
  },
  {
   "cell_type": "markdown",
   "id": "235a2684",
   "metadata": {},
   "source": [
    "# lets do now EDA"
   ]
  },
  {
   "cell_type": "code",
   "execution_count": null,
   "id": "b77d66d0",
   "metadata": {},
   "outputs": [
    {
     "ename": "",
     "evalue": "",
     "output_type": "error",
     "traceback": [
      "\u001b[1;31mRunning cells with 'c:\\end to end project\\companycrupt\\venv\\python.exe' requires the ipykernel package.\n",
      "\u001b[1;31mRun the following command to install 'ipykernel' into the Python environment. \n",
      "\u001b[1;31mCommand: 'conda install -p c:\\end to end project\\companycrupt\\venv ipykernel --update-deps --force-reinstall'"
     ]
    }
   ],
   "source": [
    "sns.pairplot(new_df)\n",
    "plt.show()"
   ]
  },
  {
   "cell_type": "code",
   "execution_count": null,
   "id": "10f40e7a",
   "metadata": {},
   "outputs": [
    {
     "ename": "",
     "evalue": "",
     "output_type": "error",
     "traceback": [
      "\u001b[1;31mRunning cells with 'c:\\end to end project\\companycrupt\\venv\\python.exe' requires the ipykernel package.\n",
      "\u001b[1;31mRun the following command to install 'ipykernel' into the Python environment. \n",
      "\u001b[1;31mCommand: 'conda install -p c:\\end to end project\\companycrupt\\venv ipykernel --update-deps --force-reinstall'"
     ]
    }
   ],
   "source": [
    "plt.figure(figsize=(10,10))\n",
    "count=1\n",
    "for i in new_df:\n",
    "    plt.subplot(5,2,count)\n",
    "    sns.distplot(new_df[i],color='green')\n",
    "    plt.title('distribution of columns')\n",
    "    count+=1\n",
    "plt.show()"
   ]
  },
  {
   "cell_type": "code",
   "execution_count": null,
   "id": "d7be29a4",
   "metadata": {},
   "outputs": [
    {
     "ename": "",
     "evalue": "",
     "output_type": "error",
     "traceback": [
      "\u001b[1;31mRunning cells with 'c:\\end to end project\\companycrupt\\venv\\python.exe' requires the ipykernel package.\n",
      "\u001b[1;31mRun the following command to install 'ipykernel' into the Python environment. \n",
      "\u001b[1;31mCommand: 'conda install -p c:\\end to end project\\companycrupt\\venv ipykernel --update-deps --force-reinstall'"
     ]
    }
   ],
   "source": [
    "plt.figure(figsize=(10,10))\n",
    "count=1\n",
    "for i in new_df:\n",
    "    plt.subplot(5,2,count)\n",
    "    sns.boxplot(new_df[i])\n",
    "    count+=1\n",
    "plt.show()"
   ]
  },
  {
   "cell_type": "code",
   "execution_count": null,
   "id": "2c9a549c",
   "metadata": {},
   "outputs": [
    {
     "ename": "",
     "evalue": "",
     "output_type": "error",
     "traceback": [
      "\u001b[1;31mRunning cells with 'c:\\end to end project\\companycrupt\\venv\\python.exe' requires the ipykernel package.\n",
      "\u001b[1;31mRun the following command to install 'ipykernel' into the Python environment. \n",
      "\u001b[1;31mCommand: 'conda install -p c:\\end to end project\\companycrupt\\venv ipykernel --update-deps --force-reinstall'"
     ]
    }
   ],
   "source": [
    "new_df.nunique()"
   ]
  },
  {
   "cell_type": "code",
   "execution_count": null,
   "id": "505f1411",
   "metadata": {},
   "outputs": [
    {
     "ename": "",
     "evalue": "",
     "output_type": "error",
     "traceback": [
      "\u001b[1;31mRunning cells with 'c:\\end to end project\\companycrupt\\venv\\python.exe' requires the ipykernel package.\n",
      "\u001b[1;31mRun the following command to install 'ipykernel' into the Python environment. \n",
      "\u001b[1;31mCommand: 'conda install -p c:\\end to end project\\companycrupt\\venv ipykernel --update-deps --force-reinstall'"
     ]
    }
   ],
   "source": [
    "sns.countplot(new_df['Bankrupt?'])"
   ]
  },
  {
   "cell_type": "markdown",
   "id": "38d455a5",
   "metadata": {},
   "source": [
    "#### so over target column is imbalanced which affect our model performance\n",
    "so we have to balanced data of target variable"
   ]
  },
  {
   "cell_type": "code",
   "execution_count": null,
   "id": "954edfe0",
   "metadata": {},
   "outputs": [
    {
     "ename": "",
     "evalue": "",
     "output_type": "error",
     "traceback": [
      "\u001b[1;31mRunning cells with 'c:\\end to end project\\companycrupt\\venv\\python.exe' requires the ipykernel package.\n",
      "\u001b[1;31mRun the following command to install 'ipykernel' into the Python environment. \n",
      "\u001b[1;31mCommand: 'conda install -p c:\\end to end project\\companycrupt\\venv ipykernel --update-deps --force-reinstall'"
     ]
    }
   ],
   "source": [
    "from imblearn.over_sampling import SMOTE\n"
   ]
  },
  {
   "cell_type": "code",
   "execution_count": null,
   "id": "96a9a429",
   "metadata": {},
   "outputs": [
    {
     "ename": "",
     "evalue": "",
     "output_type": "error",
     "traceback": [
      "\u001b[1;31mRunning cells with 'c:\\end to end project\\companycrupt\\venv\\python.exe' requires the ipykernel package.\n",
      "\u001b[1;31mRun the following command to install 'ipykernel' into the Python environment. \n",
      "\u001b[1;31mCommand: 'conda install -p c:\\end to end project\\companycrupt\\venv ipykernel --update-deps --force-reinstall'"
     ]
    }
   ],
   "source": [
    "#lets split the target and feature columns\n",
    "X=new_df.drop(['Bankrupt?'],axis=1)\n",
    "X"
   ]
  },
  {
   "cell_type": "code",
   "execution_count": null,
   "id": "00d855c1",
   "metadata": {},
   "outputs": [
    {
     "ename": "",
     "evalue": "",
     "output_type": "error",
     "traceback": [
      "\u001b[1;31mRunning cells with 'c:\\end to end project\\companycrupt\\venv\\python.exe' requires the ipykernel package.\n",
      "\u001b[1;31mRun the following command to install 'ipykernel' into the Python environment. \n",
      "\u001b[1;31mCommand: 'conda install -p c:\\end to end project\\companycrupt\\venv ipykernel --update-deps --force-reinstall'"
     ]
    }
   ],
   "source": [
    "y=new_df['Bankrupt?']\n",
    "y"
   ]
  },
  {
   "cell_type": "code",
   "execution_count": null,
   "id": "d240c407",
   "metadata": {},
   "outputs": [
    {
     "ename": "",
     "evalue": "",
     "output_type": "error",
     "traceback": [
      "\u001b[1;31mRunning cells with 'c:\\end to end project\\companycrupt\\venv\\python.exe' requires the ipykernel package.\n",
      "\u001b[1;31mRun the following command to install 'ipykernel' into the Python environment. \n",
      "\u001b[1;31mCommand: 'conda install -p c:\\end to end project\\companycrupt\\venv ipykernel --update-deps --force-reinstall'"
     ]
    }
   ],
   "source": [
    "sm=SMOTE(random_state=42)"
   ]
  },
  {
   "cell_type": "code",
   "execution_count": null,
   "id": "1b097cd5",
   "metadata": {},
   "outputs": [
    {
     "ename": "",
     "evalue": "",
     "output_type": "error",
     "traceback": [
      "\u001b[1;31mRunning cells with 'c:\\end to end project\\companycrupt\\venv\\python.exe' requires the ipykernel package.\n",
      "\u001b[1;31mRun the following command to install 'ipykernel' into the Python environment. \n",
      "\u001b[1;31mCommand: 'conda install -p c:\\end to end project\\companycrupt\\venv ipykernel --update-deps --force-reinstall'"
     ]
    }
   ],
   "source": [
    "X_sampled,y_sampled=sm.fit_resample(X,y)"
   ]
  },
  {
   "cell_type": "code",
   "execution_count": null,
   "id": "5a47b406",
   "metadata": {},
   "outputs": [
    {
     "ename": "",
     "evalue": "",
     "output_type": "error",
     "traceback": [
      "\u001b[1;31mRunning cells with 'c:\\end to end project\\companycrupt\\venv\\python.exe' requires the ipykernel package.\n",
      "\u001b[1;31mRun the following command to install 'ipykernel' into the Python environment. \n",
      "\u001b[1;31mCommand: 'conda install -p c:\\end to end project\\companycrupt\\venv ipykernel --update-deps --force-reinstall'"
     ]
    }
   ],
   "source": [
    "new_df['Bankrupt?'].value_counts().plot(kind='bar')\n",
    "plt.title(\"Before Oversampling\")\n",
    "plt.xlabel('Bankcrupt')\n",
    "plt.ylabel('counts')"
   ]
  },
  {
   "cell_type": "code",
   "execution_count": null,
   "id": "985af50c",
   "metadata": {},
   "outputs": [
    {
     "ename": "",
     "evalue": "",
     "output_type": "error",
     "traceback": [
      "\u001b[1;31mRunning cells with 'c:\\end to end project\\companycrupt\\venv\\python.exe' requires the ipykernel package.\n",
      "\u001b[1;31mRun the following command to install 'ipykernel' into the Python environment. \n",
      "\u001b[1;31mCommand: 'conda install -p c:\\end to end project\\companycrupt\\venv ipykernel --update-deps --force-reinstall'"
     ]
    }
   ],
   "source": [
    "y_sampled.value_counts().plot(kind='bar')\n",
    "plt.title(\"After Oversampling\")\n",
    "plt.xlabel('Bankcrupt')\n",
    "plt.ylabel('counts')"
   ]
  },
  {
   "cell_type": "markdown",
   "id": "42363c87",
   "metadata": {},
   "source": [
    "# modeling"
   ]
  },
  {
   "cell_type": "code",
   "execution_count": null,
   "id": "2414db91",
   "metadata": {},
   "outputs": [
    {
     "ename": "",
     "evalue": "",
     "output_type": "error",
     "traceback": [
      "\u001b[1;31mRunning cells with 'c:\\end to end project\\companycrupt\\venv\\python.exe' requires the ipykernel package.\n",
      "\u001b[1;31mRun the following command to install 'ipykernel' into the Python environment. \n",
      "\u001b[1;31mCommand: 'conda install -p c:\\end to end project\\companycrupt\\venv ipykernel --update-deps --force-reinstall'"
     ]
    }
   ],
   "source": [
    "from sklearn.model_selection import train_test_split"
   ]
  },
  {
   "cell_type": "code",
   "execution_count": null,
   "id": "d9af5f17",
   "metadata": {},
   "outputs": [
    {
     "ename": "",
     "evalue": "",
     "output_type": "error",
     "traceback": [
      "\u001b[1;31mRunning cells with 'c:\\end to end project\\companycrupt\\venv\\python.exe' requires the ipykernel package.\n",
      "\u001b[1;31mRun the following command to install 'ipykernel' into the Python environment. \n",
      "\u001b[1;31mCommand: 'conda install -p c:\\end to end project\\companycrupt\\venv ipykernel --update-deps --force-reinstall'"
     ]
    }
   ],
   "source": [
    "Xtrain,Xtest,ytrain,ytest=train_test_split(X_sampled,y_sampled,test_size=0.2,random_state=42)"
   ]
  },
  {
   "cell_type": "code",
   "execution_count": null,
   "id": "ee1b18cc",
   "metadata": {},
   "outputs": [
    {
     "ename": "",
     "evalue": "",
     "output_type": "error",
     "traceback": [
      "\u001b[1;31mRunning cells with 'c:\\end to end project\\companycrupt\\venv\\python.exe' requires the ipykernel package.\n",
      "\u001b[1;31mRun the following command to install 'ipykernel' into the Python environment. \n",
      "\u001b[1;31mCommand: 'conda install -p c:\\end to end project\\companycrupt\\venv ipykernel --update-deps --force-reinstall'"
     ]
    }
   ],
   "source": [
    "Xtrain.shape,Xtest.shape"
   ]
  },
  {
   "cell_type": "code",
   "execution_count": null,
   "id": "261973cf",
   "metadata": {},
   "outputs": [
    {
     "ename": "",
     "evalue": "",
     "output_type": "error",
     "traceback": [
      "\u001b[1;31mRunning cells with 'c:\\end to end project\\companycrupt\\venv\\python.exe' requires the ipykernel package.\n",
      "\u001b[1;31mRun the following command to install 'ipykernel' into the Python environment. \n",
      "\u001b[1;31mCommand: 'conda install -p c:\\end to end project\\companycrupt\\venv ipykernel --update-deps --force-reinstall'"
     ]
    }
   ],
   "source": [
    "ytrain.shape,ytest.shape"
   ]
  },
  {
   "cell_type": "markdown",
   "id": "b33ebad8",
   "metadata": {},
   "source": []
  },
  {
   "cell_type": "markdown",
   "id": "70322f9f",
   "metadata": {},
   "source": [
    "# `scaling"
   ]
  },
  {
   "cell_type": "code",
   "execution_count": null,
   "id": "4bf73c9b",
   "metadata": {},
   "outputs": [
    {
     "ename": "",
     "evalue": "",
     "output_type": "error",
     "traceback": [
      "\u001b[1;31mRunning cells with 'c:\\end to end project\\companycrupt\\venv\\python.exe' requires the ipykernel package.\n",
      "\u001b[1;31mRun the following command to install 'ipykernel' into the Python environment. \n",
      "\u001b[1;31mCommand: 'conda install -p c:\\end to end project\\companycrupt\\venv ipykernel --update-deps --force-reinstall'"
     ]
    }
   ],
   "source": [
    "from sklearn.preprocessing import StandardScaler"
   ]
  },
  {
   "cell_type": "code",
   "execution_count": null,
   "id": "49592bbb",
   "metadata": {},
   "outputs": [
    {
     "ename": "",
     "evalue": "",
     "output_type": "error",
     "traceback": [
      "\u001b[1;31mRunning cells with 'c:\\end to end project\\companycrupt\\venv\\python.exe' requires the ipykernel package.\n",
      "\u001b[1;31mRun the following command to install 'ipykernel' into the Python environment. \n",
      "\u001b[1;31mCommand: 'conda install -p c:\\end to end project\\companycrupt\\venv ipykernel --update-deps --force-reinstall'"
     ]
    }
   ],
   "source": [
    "se=StandardScaler()"
   ]
  },
  {
   "cell_type": "code",
   "execution_count": null,
   "id": "30865918",
   "metadata": {},
   "outputs": [
    {
     "ename": "",
     "evalue": "",
     "output_type": "error",
     "traceback": [
      "\u001b[1;31mRunning cells with 'c:\\end to end project\\companycrupt\\venv\\python.exe' requires the ipykernel package.\n",
      "\u001b[1;31mRun the following command to install 'ipykernel' into the Python environment. \n",
      "\u001b[1;31mCommand: 'conda install -p c:\\end to end project\\companycrupt\\venv ipykernel --update-deps --force-reinstall'"
     ]
    }
   ],
   "source": [
    "Xtrain=se.fit_transform(Xtrain)\n",
    "Xtest=se.fit_transform(Xtest)"
   ]
  },
  {
   "cell_type": "markdown",
   "id": "253c8b0e",
   "metadata": {},
   "source": [
    "# model building"
   ]
  },
  {
   "cell_type": "code",
   "execution_count": null,
   "id": "3337b86e",
   "metadata": {},
   "outputs": [
    {
     "ename": "",
     "evalue": "",
     "output_type": "error",
     "traceback": [
      "\u001b[1;31mRunning cells with 'c:\\end to end project\\companycrupt\\venv\\python.exe' requires the ipykernel package.\n",
      "\u001b[1;31mRun the following command to install 'ipykernel' into the Python environment. \n",
      "\u001b[1;31mCommand: 'conda install -p c:\\end to end project\\companycrupt\\venv ipykernel --update-deps --force-reinstall'"
     ]
    }
   ],
   "source": [
    "from sklearn.neighbors import KNeighborsClassifier\n",
    "from sklearn.linear_model import LogisticRegression\n",
    "from sklearn.tree import DecisionTreeClassifier\n",
    "from sklearn.ensemble import RandomForestClassifier\n",
    "from sklearn.ensemble import AdaBoostClassifier\n",
    "from sklearn.svm import SVC\n",
    "from sklearn.metrics import accuracy_score,classification_report\n",
    "from sklearn.metrics import roc_auc_score,roc_curve"
   ]
  },
  {
   "cell_type": "code",
   "execution_count": null,
   "id": "c564bf35",
   "metadata": {},
   "outputs": [
    {
     "ename": "",
     "evalue": "",
     "output_type": "error",
     "traceback": [
      "\u001b[1;31mRunning cells with 'c:\\end to end project\\companycrupt\\venv\\python.exe' requires the ipykernel package.\n",
      "\u001b[1;31mRun the following command to install 'ipykernel' into the Python environment. \n",
      "\u001b[1;31mCommand: 'conda install -p c:\\end to end project\\companycrupt\\venv ipykernel --update-deps --force-reinstall'"
     ]
    }
   ],
   "source": [
    "knn=KNeighborsClassifier(n_neighbors=3)\n",
    "lr=LogisticRegression()\n",
    "dt=DecisionTreeClassifier()\n",
    "ra=RandomForestClassifier()\n",
    "ad=AdaBoostClassifier()\n",
    "svm=SVC(probability=True)"
   ]
  },
  {
   "cell_type": "code",
   "execution_count": null,
   "id": "5fefd1be",
   "metadata": {},
   "outputs": [
    {
     "ename": "",
     "evalue": "",
     "output_type": "error",
     "traceback": [
      "\u001b[1;31mRunning cells with 'c:\\end to end project\\companycrupt\\venv\\python.exe' requires the ipykernel package.\n",
      "\u001b[1;31mRun the following command to install 'ipykernel' into the Python environment. \n",
      "\u001b[1;31mCommand: 'conda install -p c:\\end to end project\\companycrupt\\venv ipykernel --update-deps --force-reinstall'"
     ]
    }
   ],
   "source": [
    "def model_building(model):\n",
    "    model.fit(Xtrain,ytrain)\n",
    "    ypred_train=model.predict(Xtrain)\n",
    "    ypred_test=model.predict(Xtest)\n",
    "    print(model)\n",
    "    print(\"Train Data\")\n",
    "    print(classification_report(ytrain,ypred_train))\n",
    "    print(\"Test Data\")\n",
    "    print(classification_report(ytest,ypred_test))"
   ]
  },
  {
   "cell_type": "code",
   "execution_count": null,
   "id": "29057b85",
   "metadata": {},
   "outputs": [
    {
     "ename": "",
     "evalue": "",
     "output_type": "error",
     "traceback": [
      "\u001b[1;31mRunning cells with 'c:\\end to end project\\companycrupt\\venv\\python.exe' requires the ipykernel package.\n",
      "\u001b[1;31mRun the following command to install 'ipykernel' into the Python environment. \n",
      "\u001b[1;31mCommand: 'conda install -p c:\\end to end project\\companycrupt\\venv ipykernel --update-deps --force-reinstall'"
     ]
    }
   ],
   "source": [
    "def roc_auc_curve(model):\n",
    "    print(\"ROC-AUC CURVE:\")\n",
    "    ytest_prob= model.predict_proba(Xtest)\n",
    "    fpr,tpr,thresh=roc_curve(ytest,ytest_prob[:,1])\n",
    "    print('roc_score')\n",
    "    roc_score=roc_auc_score(ytest,ytest_prob[:,1])\n",
    "    \n",
    "    sns.lineplot(x=fpr,y=tpr)\n",
    "    sns.lineplot(x=[0.0,1.0],y=[0.0,1.0],color=\"red\",linestyle=\"--\")\n",
    "    plt.xlabel(\"FPR\")\n",
    "    plt.ylabel(\"TPR\")\n",
    "    plt.title(\"ROC-AUC Curve\")\n",
    "    plt.show()\n",
    "    print(roc_score)"
   ]
  },
  {
   "cell_type": "markdown",
   "id": "5aadac6e",
   "metadata": {},
   "source": []
  },
  {
   "cell_type": "code",
   "execution_count": null,
   "id": "a1187cad",
   "metadata": {},
   "outputs": [
    {
     "ename": "",
     "evalue": "",
     "output_type": "error",
     "traceback": [
      "\u001b[1;31mRunning cells with 'c:\\end to end project\\companycrupt\\venv\\python.exe' requires the ipykernel package.\n",
      "\u001b[1;31mRun the following command to install 'ipykernel' into the Python environment. \n",
      "\u001b[1;31mCommand: 'conda install -p c:\\end to end project\\companycrupt\\venv ipykernel --update-deps --force-reinstall'"
     ]
    }
   ],
   "source": [
    "from sklearn.metrics import log_loss\n",
    "\n",
    "def calculate_logloss(model,ytest):\n",
    "    print('log_loss:')\n",
    "    ytest_prob= model.predict_proba(Xtest)\n",
    "\n",
    "    logloss = log_loss(ytest, ytest_prob[:,-1])\n",
    "    return logloss\n"
   ]
  },
  {
   "cell_type": "code",
   "execution_count": null,
   "id": "41e3ba32",
   "metadata": {},
   "outputs": [
    {
     "ename": "",
     "evalue": "",
     "output_type": "error",
     "traceback": [
      "\u001b[1;31mRunning cells with 'c:\\end to end project\\companycrupt\\venv\\python.exe' requires the ipykernel package.\n",
      "\u001b[1;31mRun the following command to install 'ipykernel' into the Python environment. \n",
      "\u001b[1;31mCommand: 'conda install -p c:\\end to end project\\companycrupt\\venv ipykernel --update-deps --force-reinstall'"
     ]
    }
   ],
   "source": [
    "model_building(knn)\n",
    "roc_auc_curve(knn)\n",
    "calculate_logloss(knn,ytest)"
   ]
  },
  {
   "cell_type": "code",
   "execution_count": null,
   "id": "d57bbe4d",
   "metadata": {},
   "outputs": [
    {
     "ename": "",
     "evalue": "",
     "output_type": "error",
     "traceback": [
      "\u001b[1;31mRunning cells with 'c:\\end to end project\\companycrupt\\venv\\python.exe' requires the ipykernel package.\n",
      "\u001b[1;31mRun the following command to install 'ipykernel' into the Python environment. \n",
      "\u001b[1;31mCommand: 'conda install -p c:\\end to end project\\companycrupt\\venv ipykernel --update-deps --force-reinstall'"
     ]
    }
   ],
   "source": [
    "model_building(lr)\n",
    "roc_auc_curve(lr)\n",
    "calculate_logloss(lr,ytest)"
   ]
  },
  {
   "cell_type": "code",
   "execution_count": null,
   "id": "21b52f4a",
   "metadata": {},
   "outputs": [
    {
     "ename": "",
     "evalue": "",
     "output_type": "error",
     "traceback": [
      "\u001b[1;31mRunning cells with 'c:\\end to end project\\companycrupt\\venv\\python.exe' requires the ipykernel package.\n",
      "\u001b[1;31mRun the following command to install 'ipykernel' into the Python environment. \n",
      "\u001b[1;31mCommand: 'conda install -p c:\\end to end project\\companycrupt\\venv ipykernel --update-deps --force-reinstall'"
     ]
    }
   ],
   "source": [
    "model_building(dt)\n",
    "roc_auc_curve(dt)\n",
    "calculate_logloss(dt,ytest)"
   ]
  },
  {
   "cell_type": "code",
   "execution_count": null,
   "id": "2e53b611",
   "metadata": {},
   "outputs": [
    {
     "ename": "",
     "evalue": "",
     "output_type": "error",
     "traceback": [
      "\u001b[1;31mRunning cells with 'c:\\end to end project\\companycrupt\\venv\\python.exe' requires the ipykernel package.\n",
      "\u001b[1;31mRun the following command to install 'ipykernel' into the Python environment. \n",
      "\u001b[1;31mCommand: 'conda install -p c:\\end to end project\\companycrupt\\venv ipykernel --update-deps --force-reinstall'"
     ]
    }
   ],
   "source": [
    "model_building(ra)\n",
    "roc_auc_curve(ra)\n",
    "calculate_logloss(ra,ytest)"
   ]
  },
  {
   "cell_type": "code",
   "execution_count": null,
   "id": "8dbe70a5",
   "metadata": {},
   "outputs": [
    {
     "ename": "",
     "evalue": "",
     "output_type": "error",
     "traceback": [
      "\u001b[1;31mRunning cells with 'c:\\end to end project\\companycrupt\\venv\\python.exe' requires the ipykernel package.\n",
      "\u001b[1;31mRun the following command to install 'ipykernel' into the Python environment. \n",
      "\u001b[1;31mCommand: 'conda install -p c:\\end to end project\\companycrupt\\venv ipykernel --update-deps --force-reinstall'"
     ]
    }
   ],
   "source": [
    "model_building(ad)\n",
    "roc_auc_curve(ad)\n",
    "calculate_logloss(ad,ytest)"
   ]
  },
  {
   "cell_type": "markdown",
   "id": "4a126c45",
   "metadata": {},
   "source": []
  },
  {
   "cell_type": "code",
   "execution_count": null,
   "id": "2505d549",
   "metadata": {},
   "outputs": [
    {
     "ename": "",
     "evalue": "",
     "output_type": "error",
     "traceback": [
      "\u001b[1;31mRunning cells with 'c:\\end to end project\\companycrupt\\venv\\python.exe' requires the ipykernel package.\n",
      "\u001b[1;31mRun the following command to install 'ipykernel' into the Python environment. \n",
      "\u001b[1;31mCommand: 'conda install -p c:\\end to end project\\companycrupt\\venv ipykernel --update-deps --force-reinstall'"
     ]
    }
   ],
   "source": [
    "model_building(svm)\n",
    "roc_auc_curve(svm)\n",
    "calculate_logloss(svm,ytest)"
   ]
  },
  {
   "cell_type": "code",
   "execution_count": null,
   "id": "97f671da",
   "metadata": {},
   "outputs": [
    {
     "ename": "",
     "evalue": "",
     "output_type": "error",
     "traceback": [
      "\u001b[1;31mRunning cells with 'c:\\end to end project\\companycrupt\\venv\\python.exe' requires the ipykernel package.\n",
      "\u001b[1;31mRun the following command to install 'ipykernel' into the Python environment. \n",
      "\u001b[1;31mCommand: 'conda install -p c:\\end to end project\\companycrupt\\venv ipykernel --update-deps --force-reinstall'"
     ]
    }
   ],
   "source": [
    "knn_logloss=calculate_logloss(knn,ytest)\n",
    "lr_logloss=calculate_logloss(lr,ytest)\n",
    "dt_logloss=calculate_logloss(dt,ytest)\n",
    "ra_logloss=calculate_logloss(ra,ytest)\n",
    "ad_logloss=calculate_logloss(ad,ytest)\n",
    "svm_logloss=calculate_logloss(svm,ytest)"
   ]
  },
  {
   "cell_type": "code",
   "execution_count": null,
   "id": "efa9d983",
   "metadata": {},
   "outputs": [
    {
     "ename": "",
     "evalue": "",
     "output_type": "error",
     "traceback": [
      "\u001b[1;31mRunning cells with 'c:\\end to end project\\companycrupt\\venv\\python.exe' requires the ipykernel package.\n",
      "\u001b[1;31mRun the following command to install 'ipykernel' into the Python environment. \n",
      "\u001b[1;31mCommand: 'conda install -p c:\\end to end project\\companycrupt\\venv ipykernel --update-deps --force-reinstall'"
     ]
    }
   ],
   "source": [
    "data = {\n",
    "    'Algorithm': ['KNN', 'Logistic Regression', 'Decision Tree', 'Random Forest', 'AdaBoost','SVM'],\n",
    "    'Log Loss': [knn_logloss, lr_logloss, dt_logloss, ra_logloss, ad_logloss,svm_logloss]\n",
    "}\n",
    "log_loss_table = pd.DataFrame(data)"
   ]
  },
  {
   "cell_type": "code",
   "execution_count": null,
   "id": "a398202f",
   "metadata": {},
   "outputs": [
    {
     "ename": "",
     "evalue": "",
     "output_type": "error",
     "traceback": [
      "\u001b[1;31mRunning cells with 'c:\\end to end project\\companycrupt\\venv\\python.exe' requires the ipykernel package.\n",
      "\u001b[1;31mRun the following command to install 'ipykernel' into the Python environment. \n",
      "\u001b[1;31mCommand: 'conda install -p c:\\end to end project\\companycrupt\\venv ipykernel --update-deps --force-reinstall'"
     ]
    }
   ],
   "source": [
    "log_loss_table"
   ]
  },
  {
   "cell_type": "markdown",
   "id": "ae4c8a01",
   "metadata": {},
   "source": [
    "Based log loss values, the lower the log loss value, the better the algorithm's performance. Therefore, in this case, the two algorithms with the lowest log loss values are:\n",
    "\n",
    "1. Random Forest: With a log loss of 0.197342, it has the lowest log loss among all the algorithms.\n",
    "2. SVM: With a log loss of 0.287009, it has the second-lowest log loss.\n",
    "\n",
    "These two algorithms, Random Forest and SVM, are considered the best performers based on the log loss metric.\n",
    "\n",
    "\n",
    "\n",
    "\n"
   ]
  },
  {
   "cell_type": "markdown",
   "id": "253e2265",
   "metadata": {},
   "source": [
    "# "
   ]
  },
  {
   "cell_type": "markdown",
   "id": "b909d6b3",
   "metadata": {},
   "source": [
    "#### so we do hyper tuning on random forest and SVM"
   ]
  },
  {
   "cell_type": "code",
   "execution_count": null,
   "id": "6aaea835",
   "metadata": {},
   "outputs": [
    {
     "ename": "",
     "evalue": "",
     "output_type": "error",
     "traceback": [
      "\u001b[1;31mRunning cells with 'c:\\end to end project\\companycrupt\\venv\\python.exe' requires the ipykernel package.\n",
      "\u001b[1;31mRun the following command to install 'ipykernel' into the Python environment. \n",
      "\u001b[1;31mCommand: 'conda install -p c:\\end to end project\\companycrupt\\venv ipykernel --update-deps --force-reinstall'"
     ]
    }
   ],
   "source": [
    "from sklearn.model_selection import RandomizedSearchCV"
   ]
  },
  {
   "cell_type": "markdown",
   "id": "4214870e",
   "metadata": {},
   "source": [
    "# SVM"
   ]
  },
  {
   "cell_type": "code",
   "execution_count": null,
   "id": "9bcae5b5",
   "metadata": {},
   "outputs": [
    {
     "ename": "",
     "evalue": "",
     "output_type": "error",
     "traceback": [
      "\u001b[1;31mRunning cells with 'c:\\end to end project\\companycrupt\\venv\\python.exe' requires the ipykernel package.\n",
      "\u001b[1;31mRun the following command to install 'ipykernel' into the Python environment. \n",
      "\u001b[1;31mCommand: 'conda install -p c:\\end to end project\\companycrupt\\venv ipykernel --update-deps --force-reinstall'"
     ]
    }
   ],
   "source": [
    "svm=SVC(probability=True)"
   ]
  },
  {
   "cell_type": "code",
   "execution_count": null,
   "id": "1393bc90",
   "metadata": {},
   "outputs": [
    {
     "ename": "",
     "evalue": "",
     "output_type": "error",
     "traceback": [
      "\u001b[1;31mRunning cells with 'c:\\end to end project\\companycrupt\\venv\\python.exe' requires the ipykernel package.\n",
      "\u001b[1;31mRun the following command to install 'ipykernel' into the Python environment. \n",
      "\u001b[1;31mCommand: 'conda install -p c:\\end to end project\\companycrupt\\venv ipykernel --update-deps --force-reinstall'"
     ]
    }
   ],
   "source": [
    "param_grid = {\n",
    "    'C': [0.1, 1, 10],\n",
    "    'kernel': ['linear', 'rbf', 'poly'],\n",
    "    'gamma': ['scale', 'auto']\n",
    "}\n"
   ]
  },
  {
   "cell_type": "code",
   "execution_count": null,
   "id": "322ecab6",
   "metadata": {},
   "outputs": [
    {
     "ename": "",
     "evalue": "",
     "output_type": "error",
     "traceback": [
      "\u001b[1;31mRunning cells with 'c:\\end to end project\\companycrupt\\venv\\python.exe' requires the ipykernel package.\n",
      "\u001b[1;31mRun the following command to install 'ipykernel' into the Python environment. \n",
      "\u001b[1;31mCommand: 'conda install -p c:\\end to end project\\companycrupt\\venv ipykernel --update-deps --force-reinstall'"
     ]
    }
   ],
   "source": [
    "svm_reg = RandomizedSearchCV(svm, param_distributions=param_grid, n_iter=10, cv=5,n_jobs=-1)\n",
    "svm_reg.fit(Xtrain, ytrain)\n"
   ]
  },
  {
   "cell_type": "code",
   "execution_count": null,
   "id": "978be06d",
   "metadata": {},
   "outputs": [
    {
     "ename": "",
     "evalue": "",
     "output_type": "error",
     "traceback": [
      "\u001b[1;31mRunning cells with 'c:\\end to end project\\companycrupt\\venv\\python.exe' requires the ipykernel package.\n",
      "\u001b[1;31mRun the following command to install 'ipykernel' into the Python environment. \n",
      "\u001b[1;31mCommand: 'conda install -p c:\\end to end project\\companycrupt\\venv ipykernel --update-deps --force-reinstall'"
     ]
    }
   ],
   "source": [
    "print(\"Best Parameters:\", svm_reg.best_params_)\n",
    "print(\"Best Score:\", svm_reg.best_score_)\n"
   ]
  },
  {
   "cell_type": "code",
   "execution_count": null,
   "id": "4c8f1da8",
   "metadata": {
    "scrolled": true
   },
   "outputs": [
    {
     "ename": "",
     "evalue": "",
     "output_type": "error",
     "traceback": [
      "\u001b[1;31mRunning cells with 'c:\\end to end project\\companycrupt\\venv\\python.exe' requires the ipykernel package.\n",
      "\u001b[1;31mRun the following command to install 'ipykernel' into the Python environment. \n",
      "\u001b[1;31mCommand: 'conda install -p c:\\end to end project\\companycrupt\\venv ipykernel --update-deps --force-reinstall'"
     ]
    }
   ],
   "source": [
    "ytrain_predsvm=svm_reg.predict(Xtrain)\n",
    "ytest_predsvm=svm_reg.predict(Xtest)\n",
    "ytest_probsvm=svm_reg.predict_proba(Xtest)"
   ]
  },
  {
   "cell_type": "code",
   "execution_count": null,
   "id": "f9df1e19",
   "metadata": {},
   "outputs": [
    {
     "ename": "",
     "evalue": "",
     "output_type": "error",
     "traceback": [
      "\u001b[1;31mRunning cells with 'c:\\end to end project\\companycrupt\\venv\\python.exe' requires the ipykernel package.\n",
      "\u001b[1;31mRun the following command to install 'ipykernel' into the Python environment. \n",
      "\u001b[1;31mCommand: 'conda install -p c:\\end to end project\\companycrupt\\venv ipykernel --update-deps --force-reinstall'"
     ]
    }
   ],
   "source": [
    "print(\"Train Data\")\n",
    "print(classification_report(ytrain,ytrain_predsvm))\n",
    "print(\"Test Data\")\n",
    "print(classification_report(ytest,ytest_predsvm))\n",
    "print('Log-loss:')\n",
    "print(log_loss(ytest,ytest_probsvm))"
   ]
  },
  {
   "cell_type": "markdown",
   "id": "49bf78fd",
   "metadata": {},
   "source": []
  },
  {
   "cell_type": "markdown",
   "id": "8259edf5",
   "metadata": {},
   "source": [
    "# Random forest"
   ]
  },
  {
   "cell_type": "code",
   "execution_count": null,
   "id": "4859995d",
   "metadata": {},
   "outputs": [
    {
     "ename": "",
     "evalue": "",
     "output_type": "error",
     "traceback": [
      "\u001b[1;31mRunning cells with 'c:\\end to end project\\companycrupt\\venv\\python.exe' requires the ipykernel package.\n",
      "\u001b[1;31mRun the following command to install 'ipykernel' into the Python environment. \n",
      "\u001b[1;31mCommand: 'conda install -p c:\\end to end project\\companycrupt\\venv ipykernel --update-deps --force-reinstall'"
     ]
    }
   ],
   "source": [
    "from sklearn.model_selection import RandomizedSearchCV"
   ]
  },
  {
   "cell_type": "code",
   "execution_count": null,
   "id": "f27fe4a9",
   "metadata": {},
   "outputs": [
    {
     "ename": "",
     "evalue": "",
     "output_type": "error",
     "traceback": [
      "\u001b[1;31mRunning cells with 'c:\\end to end project\\companycrupt\\venv\\python.exe' requires the ipykernel package.\n",
      "\u001b[1;31mRun the following command to install 'ipykernel' into the Python environment. \n",
      "\u001b[1;31mCommand: 'conda install -p c:\\end to end project\\companycrupt\\venv ipykernel --update-deps --force-reinstall'"
     ]
    }
   ],
   "source": [
    "ra=RandomForestClassifier()"
   ]
  },
  {
   "cell_type": "code",
   "execution_count": null,
   "id": "8e7ffcd8",
   "metadata": {},
   "outputs": [
    {
     "ename": "",
     "evalue": "",
     "output_type": "error",
     "traceback": [
      "\u001b[1;31mRunning cells with 'c:\\end to end project\\companycrupt\\venv\\python.exe' requires the ipykernel package.\n",
      "\u001b[1;31mRun the following command to install 'ipykernel' into the Python environment. \n",
      "\u001b[1;31mCommand: 'conda install -p c:\\end to end project\\companycrupt\\venv ipykernel --update-deps --force-reinstall'"
     ]
    }
   ],
   "source": [
    "random_forest_params = {\n",
    "    'n_estimators': [25,50,75,100],\n",
    "    'max_depth': [2, 3, 5, 10, 20],\n",
    "    'min_samples_leaf': [5, 10, 20, 50, 100],\n",
    "    'min_samples_split': [2, 5, 10],\n",
    "    'criterion': [\"gini\", \"entropy\"],\n",
    "    'max_features': ['auto', 'sqrt'],\n",
    "    'bootstrap': [True, False]\n",
    "}\n"
   ]
  },
  {
   "cell_type": "code",
   "execution_count": null,
   "id": "999d1bc0",
   "metadata": {},
   "outputs": [
    {
     "ename": "",
     "evalue": "",
     "output_type": "error",
     "traceback": [
      "\u001b[1;31mRunning cells with 'c:\\end to end project\\companycrupt\\venv\\python.exe' requires the ipykernel package.\n",
      "\u001b[1;31mRun the following command to install 'ipykernel' into the Python environment. \n",
      "\u001b[1;31mCommand: 'conda install -p c:\\end to end project\\companycrupt\\venv ipykernel --update-deps --force-reinstall'"
     ]
    }
   ],
   "source": [
    "ra_reg=RandomizedSearchCV(ra,param_distributions=random_forest_params,random_state=42,scoring='accuracy',cv=5,n_jobs=-1)"
   ]
  },
  {
   "cell_type": "code",
   "execution_count": null,
   "id": "d39f9760",
   "metadata": {},
   "outputs": [
    {
     "ename": "",
     "evalue": "",
     "output_type": "error",
     "traceback": [
      "\u001b[1;31mRunning cells with 'c:\\end to end project\\companycrupt\\venv\\python.exe' requires the ipykernel package.\n",
      "\u001b[1;31mRun the following command to install 'ipykernel' into the Python environment. \n",
      "\u001b[1;31mCommand: 'conda install -p c:\\end to end project\\companycrupt\\venv ipykernel --update-deps --force-reinstall'"
     ]
    }
   ],
   "source": [
    "ra_reg.fit(Xtrain,ytrain)"
   ]
  },
  {
   "cell_type": "code",
   "execution_count": null,
   "id": "e5b2b2a7",
   "metadata": {},
   "outputs": [
    {
     "ename": "",
     "evalue": "",
     "output_type": "error",
     "traceback": [
      "\u001b[1;31mRunning cells with 'c:\\end to end project\\companycrupt\\venv\\python.exe' requires the ipykernel package.\n",
      "\u001b[1;31mRun the following command to install 'ipykernel' into the Python environment. \n",
      "\u001b[1;31mCommand: 'conda install -p c:\\end to end project\\companycrupt\\venv ipykernel --update-deps --force-reinstall'"
     ]
    }
   ],
   "source": [
    "ra_reg.best_params_"
   ]
  },
  {
   "cell_type": "code",
   "execution_count": null,
   "id": "90defdba",
   "metadata": {},
   "outputs": [
    {
     "ename": "",
     "evalue": "",
     "output_type": "error",
     "traceback": [
      "\u001b[1;31mRunning cells with 'c:\\end to end project\\companycrupt\\venv\\python.exe' requires the ipykernel package.\n",
      "\u001b[1;31mRun the following command to install 'ipykernel' into the Python environment. \n",
      "\u001b[1;31mCommand: 'conda install -p c:\\end to end project\\companycrupt\\venv ipykernel --update-deps --force-reinstall'"
     ]
    }
   ],
   "source": [
    "ra_reg.best_score_"
   ]
  },
  {
   "cell_type": "code",
   "execution_count": null,
   "id": "6b074e3b",
   "metadata": {},
   "outputs": [
    {
     "ename": "",
     "evalue": "",
     "output_type": "error",
     "traceback": [
      "\u001b[1;31mRunning cells with 'c:\\end to end project\\companycrupt\\venv\\python.exe' requires the ipykernel package.\n",
      "\u001b[1;31mRun the following command to install 'ipykernel' into the Python environment. \n",
      "\u001b[1;31mCommand: 'conda install -p c:\\end to end project\\companycrupt\\venv ipykernel --update-deps --force-reinstall'"
     ]
    }
   ],
   "source": [
    "ytest_predra=ra_reg.predict(Xtest)\n",
    "ytrain_predra=ra_reg.predict(Xtrain)\n",
    "ytest_probra= ra_reg.predict_proba(Xtest)\n"
   ]
  },
  {
   "cell_type": "code",
   "execution_count": null,
   "id": "b84cf67a",
   "metadata": {},
   "outputs": [
    {
     "ename": "",
     "evalue": "",
     "output_type": "error",
     "traceback": [
      "\u001b[1;31mRunning cells with 'c:\\end to end project\\companycrupt\\venv\\python.exe' requires the ipykernel package.\n",
      "\u001b[1;31mRun the following command to install 'ipykernel' into the Python environment. \n",
      "\u001b[1;31mCommand: 'conda install -p c:\\end to end project\\companycrupt\\venv ipykernel --update-deps --force-reinstall'"
     ]
    }
   ],
   "source": [
    "print(\"Train Data\")\n",
    "print(classification_report(ytrain,ytrain_predra))\n",
    "print(\"Test Data\")\n",
    "print(classification_report(ytest,ytest_predra))\n",
    "print('Log-loss:')\n",
    "print(log_loss(ytest,ytest_probra))"
   ]
  },
  {
   "cell_type": "code",
   "execution_count": null,
   "id": "bed07b78",
   "metadata": {},
   "outputs": [
    {
     "ename": "",
     "evalue": "",
     "output_type": "error",
     "traceback": [
      "\u001b[1;31mRunning cells with 'c:\\end to end project\\companycrupt\\venv\\python.exe' requires the ipykernel package.\n",
      "\u001b[1;31mRun the following command to install 'ipykernel' into the Python environment. \n",
      "\u001b[1;31mCommand: 'conda install -p c:\\end to end project\\companycrupt\\venv ipykernel --update-deps --force-reinstall'"
     ]
    }
   ],
   "source": [
    "svm_log=log_loss(ytest,ytest_probsvm)"
   ]
  },
  {
   "cell_type": "code",
   "execution_count": null,
   "id": "4117d54a",
   "metadata": {},
   "outputs": [
    {
     "ename": "",
     "evalue": "",
     "output_type": "error",
     "traceback": [
      "\u001b[1;31mRunning cells with 'c:\\end to end project\\companycrupt\\venv\\python.exe' requires the ipykernel package.\n",
      "\u001b[1;31mRun the following command to install 'ipykernel' into the Python environment. \n",
      "\u001b[1;31mCommand: 'conda install -p c:\\end to end project\\companycrupt\\venv ipykernel --update-deps --force-reinstall'"
     ]
    }
   ],
   "source": [
    "ra_log=log_loss(ytest,ytest_probra)"
   ]
  },
  {
   "cell_type": "code",
   "execution_count": null,
   "id": "8f106d92",
   "metadata": {},
   "outputs": [
    {
     "ename": "",
     "evalue": "",
     "output_type": "error",
     "traceback": [
      "\u001b[1;31mRunning cells with 'c:\\end to end project\\companycrupt\\venv\\python.exe' requires the ipykernel package.\n",
      "\u001b[1;31mRun the following command to install 'ipykernel' into the Python environment. \n",
      "\u001b[1;31mCommand: 'conda install -p c:\\end to end project\\companycrupt\\venv ipykernel --update-deps --force-reinstall'"
     ]
    }
   ],
   "source": [
    "final_log_loss={'Algorithm':['SVM','Radom forest'],'log_score':[svm_log,ra_log]}"
   ]
  },
  {
   "cell_type": "code",
   "execution_count": null,
   "id": "b57aa306",
   "metadata": {},
   "outputs": [
    {
     "ename": "",
     "evalue": "",
     "output_type": "error",
     "traceback": [
      "\u001b[1;31mRunning cells with 'c:\\end to end project\\companycrupt\\venv\\python.exe' requires the ipykernel package.\n",
      "\u001b[1;31mRun the following command to install 'ipykernel' into the Python environment. \n",
      "\u001b[1;31mCommand: 'conda install -p c:\\end to end project\\companycrupt\\venv ipykernel --update-deps --force-reinstall'"
     ]
    }
   ],
   "source": [
    "log_loss=pd.DataFrame(final_log_loss)"
   ]
  },
  {
   "cell_type": "code",
   "execution_count": null,
   "id": "c470b0f6",
   "metadata": {},
   "outputs": [
    {
     "ename": "",
     "evalue": "",
     "output_type": "error",
     "traceback": [
      "\u001b[1;31mRunning cells with 'c:\\end to end project\\companycrupt\\venv\\python.exe' requires the ipykernel package.\n",
      "\u001b[1;31mRun the following command to install 'ipykernel' into the Python environment. \n",
      "\u001b[1;31mCommand: 'conda install -p c:\\end to end project\\companycrupt\\venv ipykernel --update-deps --force-reinstall'"
     ]
    }
   ],
   "source": [
    "log_loss"
   ]
  },
  {
   "cell_type": "markdown",
   "id": "c3d3ab42",
   "metadata": {},
   "source": [
    "so random forest has lowest log_loss score i.e 0.211993"
   ]
  },
  {
   "cell_type": "markdown",
   "id": "3eb239be",
   "metadata": {},
   "source": [
    "#### conclusion:"
   ]
  },
  {
   "cell_type": "markdown",
   "id": "2df3728b",
   "metadata": {},
   "source": [
    "**Random forest** is our final model algorithm as it perform best in all possible situation compare to other algorithm"
   ]
  },
  {
   "cell_type": "code",
   "execution_count": null,
   "id": "008de699",
   "metadata": {},
   "outputs": [
    {
     "ename": "",
     "evalue": "",
     "output_type": "error",
     "traceback": [
      "\u001b[1;31mRunning cells with 'c:\\end to end project\\companycrupt\\venv\\python.exe' requires the ipykernel package.\n",
      "\u001b[1;31mRun the following command to install 'ipykernel' into the Python environment. \n",
      "\u001b[1;31mCommand: 'conda install -p c:\\end to end project\\companycrupt\\venv ipykernel --update-deps --force-reinstall'"
     ]
    }
   ],
   "source": [
    "import pickle"
   ]
  },
  {
   "cell_type": "code",
   "execution_count": null,
   "id": "4dbf9b02",
   "metadata": {},
   "outputs": [
    {
     "ename": "",
     "evalue": "",
     "output_type": "error",
     "traceback": [
      "\u001b[1;31mRunning cells with 'c:\\end to end project\\companycrupt\\venv\\python.exe' requires the ipykernel package.\n",
      "\u001b[1;31mRun the following command to install 'ipykernel' into the Python environment. \n",
      "\u001b[1;31mCommand: 'conda install -p c:\\end to end project\\companycrupt\\venv ipykernel --update-deps --force-reinstall'"
     ]
    }
   ],
   "source": [
    "pickle.dump(ra_reg,open('bankmodel.pkl','wb'))"
   ]
  },
  {
   "cell_type": "code",
   "execution_count": null,
   "id": "44cb276b",
   "metadata": {},
   "outputs": [
    {
     "ename": "",
     "evalue": "",
     "output_type": "error",
     "traceback": [
      "\u001b[1;31mRunning cells with 'c:\\end to end project\\companycrupt\\venv\\python.exe' requires the ipykernel package.\n",
      "\u001b[1;31mRun the following command to install 'ipykernel' into the Python environment. \n",
      "\u001b[1;31mCommand: 'conda install -p c:\\end to end project\\companycrupt\\venv ipykernel --update-deps --force-reinstall'"
     ]
    }
   ],
   "source": [
    "#for laoding\n",
    "pickle_model=pickle.load(open('bankmodel.pkl','rb'))"
   ]
  },
  {
   "cell_type": "code",
   "execution_count": null,
   "id": "5483396d",
   "metadata": {},
   "outputs": [
    {
     "ename": "",
     "evalue": "",
     "output_type": "error",
     "traceback": [
      "\u001b[1;31mRunning cells with 'c:\\end to end project\\companycrupt\\venv\\python.exe' requires the ipykernel package.\n",
      "\u001b[1;31mRun the following command to install 'ipykernel' into the Python environment. \n",
      "\u001b[1;31mCommand: 'conda install -p c:\\end to end project\\companycrupt\\venv ipykernel --update-deps --force-reinstall'"
     ]
    }
   ],
   "source": []
  }
 ],
 "metadata": {
  "kernelspec": {
   "display_name": "companycrupt",
   "language": "python",
   "name": "venv"
  },
  "language_info": {
   "codemirror_mode": {
    "name": "ipython",
    "version": 3
   },
   "file_extension": ".py",
   "mimetype": "text/x-python",
   "name": "python",
   "nbconvert_exporter": "python",
   "pygments_lexer": "ipython3",
   "version": "3.10.0"
  }
 },
 "nbformat": 4,
 "nbformat_minor": 5
}
